{
 "cells": [
  {
   "cell_type": "markdown",
   "metadata": {},
   "source": [
    "# Testing Pytorch Functionality"
   ]
  },
  {
   "cell_type": "code",
   "execution_count": 1,
   "metadata": {},
   "outputs": [],
   "source": [
    "import numpy as np\n",
    "import torch"
   ]
  },
  {
   "cell_type": "code",
   "execution_count": 5,
   "metadata": {},
   "outputs": [
    {
     "name": "stdout",
     "output_type": "stream",
     "text": [
      "tensor([[-0.0412,  0.1623,  0.4948,  1.4074],\n",
      "        [-0.2691,  0.5808,  0.3340,  1.0805],\n",
      "        [-0.2290, -0.1937, -0.3674, -0.7551]])\n",
      "3\n",
      "4\n"
     ]
    }
   ],
   "source": [
    "x = torch.randn(3, 4)\n",
    "print(x)\n",
    "batch, dim = x.shape\n",
    "print(batch)\n",
    "print(dim)"
   ]
  },
  {
   "cell_type": "code",
   "execution_count": 10,
   "metadata": {},
   "outputs": [
    {
     "name": "stdout",
     "output_type": "stream",
     "text": [
      "tensor([-1.0999, -0.6286,  1.7208, -0.6007])\n",
      "tensor(4.9271)\n"
     ]
    }
   ],
   "source": [
    "vector = torch.randn(4)\n",
    "print(vector)\n",
    "print((vector**2).sum())"
   ]
  },
  {
   "cell_type": "code",
   "execution_count": null,
   "metadata": {},
   "outputs": [
    {
     "name": "stdout",
     "output_type": "stream",
     "text": [
      "tensor([0, 1, 2, 3, 4])\n",
      "torch.Size([5])\n",
      "tensor([[0],\n",
      "        [1],\n",
      "        [2],\n",
      "        [3],\n",
      "        [4]])\n",
      "torch.Size([5, 1])\n",
      "tensor([0, 1, 2, 3, 4])\n",
      "torch.Size([5])\n",
      "tensor([[0, 1, 2, 3, 4],\n",
      "        [1, 2, 3, 4, 5],\n",
      "        [2, 3, 4, 5, 6],\n",
      "        [3, 4, 5, 6, 7],\n",
      "        [4, 5, 6, 7, 8]])\n",
      "tensor([0, 2, 4, 6, 8])\n"
     ]
    }
   ],
   "source": [
    "# Broadcasting pitfalls\n",
    "vec1 = torch.arange(5)\n",
    "print(vec1)\n",
    "print(vec1.shape)\n",
    "\n",
    "# Note that the -1 tells torch to infer the size of the dimension\n",
    "# Since we've specified the size of the second dimension as 1,\n",
    "# the -1 will become 5 (since there are a total of 5 elements)\n",
    "vec2 = torch.arange(5).reshape(-1, 1)\n",
    "print(vec2)\n",
    "print(vec2.shape)\n",
    "\n",
    "# Squeeze removes dimensions of size 1\n",
    "# The -1 argument tells torch to remove all instances, but you can\n",
    "# instead specify specific dimensions to look over for removal\n",
    "# Note that we could have alternatively used vec2_squeezed = vec2.reshape(5)\n",
    "vec2_squeezed = vec2.squeeze(-1)\n",
    "print(vec2_squeezed)\n",
    "print(vec2_squeezed.shape)\n",
    "\n",
    "print(vec1 + vec2)\n",
    "print(vec1 + vec2_squeezed)"
   ]
  },
  {
   "cell_type": "code",
   "execution_count": null,
   "metadata": {},
   "outputs": [],
   "source": []
  }
 ],
 "metadata": {
  "kernelspec": {
   "display_name": "spinningup",
   "language": "python",
   "name": "python3"
  },
  "language_info": {
   "codemirror_mode": {
    "name": "ipython",
    "version": 3
   },
   "file_extension": ".py",
   "mimetype": "text/x-python",
   "name": "python",
   "nbconvert_exporter": "python",
   "pygments_lexer": "ipython3",
   "version": "3.6.15"
  }
 },
 "nbformat": 4,
 "nbformat_minor": 2
}
